{
 "cells": [
  {
   "cell_type": "code",
   "execution_count": 28,
   "id": "excessive-tomorrow",
   "metadata": {},
   "outputs": [],
   "source": [
    "import os\n",
    "from datetime import date\n",
    "import pandas as pd\n",
    "from dateutil.relativedelta import relativedelta\n",
    "from jugaad_data.nse import index_raw\n",
    "from jugaad_data.nse import stock_df\n",
    "import jugaad_data as jd\n",
    "import yfinance as yf"
   ]
  },
  {
   "cell_type": "code",
   "execution_count": 29,
   "id": "marked-behalf",
   "metadata": {},
   "outputs": [
    {
     "name": "stdout",
     "output_type": "stream",
     "text": [
      "{'lastPrice': 644.4, 'change': -1.8000000000000682, 'pChange': -0.27855153203343674, 'previousClose': 646.2, 'open': 647.95, 'close': 644.85, 'vwap': 646.21, 'lowerCP': '517.00', 'upperCP': '775.40', 'pPriceBand': '20', 'basePrice': 646.2, 'intraDayHighLow': {'min': 640, 'max': 655, 'value': 644.4}, 'weekHighLow': {'min': 466.5, 'minDate': '31-Mar-2023', 'max': 692, 'maxDate': '19-Oct-2023', 'value': 644.4}, 'iNavValue': None, 'checkINAV': False}\n"
     ]
    }
   ],
   "source": [
    "from jugaad_data.nse import NSELive\n",
    "n = NSELive()\n",
    "q = n.stock_quote(\"KSCL\")\n",
    "print(q['priceInfo'])"
   ]
  },
  {
   "cell_type": "code",
   "execution_count": 42,
   "id": "invalid-technology",
   "metadata": {},
   "outputs": [],
   "source": [
    "from jugaad_data.nse import stock_df\n",
    "agri_data_df = stock_df(symbol='KSCL', \n",
    "                                from_date=date(2011,1,1), \n",
    "                                to_date=date(2024,1,5), \n",
    "                                series=\"EQ\")\n"
   ]
  },
  {
   "cell_type": "code",
   "execution_count": 43,
   "id": "rental-strength",
   "metadata": {},
   "outputs": [
    {
     "name": "stdout",
     "output_type": "stream",
     "text": [
      "{'lastPrice': 644.4, 'change': -1.8000000000000682, 'pChange': -0.27855153203343674, 'previousClose': 646.2, 'open': 647.95, 'close': 644.85, 'vwap': 646.21, 'lowerCP': '517.00', 'upperCP': '775.40', 'pPriceBand': '20', 'basePrice': 646.2, 'intraDayHighLow': {'min': 640, 'max': 655, 'value': 644.4}, 'weekHighLow': {'min': 466.5, 'minDate': '31-Mar-2023', 'max': 692, 'maxDate': '19-Oct-2023', 'value': 644.4}, 'iNavValue': None, 'checkINAV': False}\n"
     ]
    }
   ],
   "source": [
    "from jugaad_data.nse import NSELive\n",
    "n = NSELive()\n",
    "q = n.stock_quote(\"KSCL\")\n",
    "print(q['priceInfo'])"
   ]
  },
  {
   "cell_type": "code",
   "execution_count": 44,
   "id": "raising-implement",
   "metadata": {},
   "outputs": [
    {
     "data": {
      "text/plain": [
       "<Figure size 864x432 with 0 Axes>"
      ]
     },
     "execution_count": 44,
     "metadata": {},
     "output_type": "execute_result"
    },
    {
     "data": {
      "text/plain": [
       "<Figure size 864x432 with 0 Axes>"
      ]
     },
     "metadata": {},
     "output_type": "display_data"
    }
   ],
   "source": [
    "import pandas as pd\n",
    "import numpy as np\n",
    "import matplotlib.pyplot as plt\n",
    "from sklearn.linear_model import LinearRegression\n",
    "\n",
    "plt.figure(figsize=(12, 6))"
   ]
  },
  {
   "cell_type": "code",
   "execution_count": 45,
   "id": "stylish-success",
   "metadata": {},
   "outputs": [
    {
     "data": {
      "text/html": [
       "<div>\n",
       "<style scoped>\n",
       "    .dataframe tbody tr th:only-of-type {\n",
       "        vertical-align: middle;\n",
       "    }\n",
       "\n",
       "    .dataframe tbody tr th {\n",
       "        vertical-align: top;\n",
       "    }\n",
       "\n",
       "    .dataframe thead th {\n",
       "        text-align: right;\n",
       "    }\n",
       "</style>\n",
       "<table border=\"1\" class=\"dataframe\">\n",
       "  <thead>\n",
       "    <tr style=\"text-align: right;\">\n",
       "      <th></th>\n",
       "      <th>DATE</th>\n",
       "      <th>SERIES</th>\n",
       "      <th>OPEN</th>\n",
       "      <th>HIGH</th>\n",
       "      <th>LOW</th>\n",
       "      <th>PREV. CLOSE</th>\n",
       "      <th>LTP</th>\n",
       "      <th>CLOSE</th>\n",
       "      <th>VWAP</th>\n",
       "      <th>52W H</th>\n",
       "      <th>52W L</th>\n",
       "      <th>VOLUME</th>\n",
       "      <th>VALUE</th>\n",
       "      <th>NO OF TRADES</th>\n",
       "      <th>SYMBOL</th>\n",
       "    </tr>\n",
       "  </thead>\n",
       "  <tbody>\n",
       "    <tr>\n",
       "      <th>0</th>\n",
       "      <td>2024-01-02</td>\n",
       "      <td>EQ</td>\n",
       "      <td>647.95</td>\n",
       "      <td>655.00</td>\n",
       "      <td>640.00</td>\n",
       "      <td>646.20</td>\n",
       "      <td>644.40</td>\n",
       "      <td>644.85</td>\n",
       "      <td>646.22</td>\n",
       "      <td>692.0</td>\n",
       "      <td>466.50</td>\n",
       "      <td>176306</td>\n",
       "      <td>1.139320e+08</td>\n",
       "      <td>13378</td>\n",
       "      <td>KSCL</td>\n",
       "    </tr>\n",
       "    <tr>\n",
       "      <th>1</th>\n",
       "      <td>2024-01-01</td>\n",
       "      <td>EQ</td>\n",
       "      <td>657.00</td>\n",
       "      <td>659.35</td>\n",
       "      <td>640.50</td>\n",
       "      <td>612.60</td>\n",
       "      <td>647.00</td>\n",
       "      <td>646.20</td>\n",
       "      <td>649.01</td>\n",
       "      <td>692.0</td>\n",
       "      <td>466.50</td>\n",
       "      <td>1093664</td>\n",
       "      <td>7.097974e+08</td>\n",
       "      <td>40542</td>\n",
       "      <td>KSCL</td>\n",
       "    </tr>\n",
       "    <tr>\n",
       "      <th>2</th>\n",
       "      <td>2023-12-29</td>\n",
       "      <td>EQ</td>\n",
       "      <td>614.00</td>\n",
       "      <td>618.40</td>\n",
       "      <td>608.75</td>\n",
       "      <td>611.65</td>\n",
       "      <td>611.10</td>\n",
       "      <td>612.60</td>\n",
       "      <td>613.49</td>\n",
       "      <td>692.0</td>\n",
       "      <td>466.50</td>\n",
       "      <td>45947</td>\n",
       "      <td>2.818807e+07</td>\n",
       "      <td>4519</td>\n",
       "      <td>KSCL</td>\n",
       "    </tr>\n",
       "    <tr>\n",
       "      <th>3</th>\n",
       "      <td>2023-12-28</td>\n",
       "      <td>EQ</td>\n",
       "      <td>615.00</td>\n",
       "      <td>621.20</td>\n",
       "      <td>610.00</td>\n",
       "      <td>612.15</td>\n",
       "      <td>610.40</td>\n",
       "      <td>611.65</td>\n",
       "      <td>612.97</td>\n",
       "      <td>692.0</td>\n",
       "      <td>466.50</td>\n",
       "      <td>55342</td>\n",
       "      <td>3.392326e+07</td>\n",
       "      <td>5758</td>\n",
       "      <td>KSCL</td>\n",
       "    </tr>\n",
       "    <tr>\n",
       "      <th>4</th>\n",
       "      <td>2023-12-27</td>\n",
       "      <td>EQ</td>\n",
       "      <td>619.55</td>\n",
       "      <td>628.55</td>\n",
       "      <td>598.60</td>\n",
       "      <td>616.45</td>\n",
       "      <td>614.50</td>\n",
       "      <td>612.15</td>\n",
       "      <td>616.41</td>\n",
       "      <td>692.0</td>\n",
       "      <td>466.50</td>\n",
       "      <td>78785</td>\n",
       "      <td>4.856412e+07</td>\n",
       "      <td>5202</td>\n",
       "      <td>KSCL</td>\n",
       "    </tr>\n",
       "    <tr>\n",
       "      <th>...</th>\n",
       "      <td>...</td>\n",
       "      <td>...</td>\n",
       "      <td>...</td>\n",
       "      <td>...</td>\n",
       "      <td>...</td>\n",
       "      <td>...</td>\n",
       "      <td>...</td>\n",
       "      <td>...</td>\n",
       "      <td>...</td>\n",
       "      <td>...</td>\n",
       "      <td>...</td>\n",
       "      <td>...</td>\n",
       "      <td>...</td>\n",
       "      <td>...</td>\n",
       "      <td>...</td>\n",
       "    </tr>\n",
       "    <tr>\n",
       "      <th>3227</th>\n",
       "      <td>2011-01-07</td>\n",
       "      <td>EQ</td>\n",
       "      <td>345.00</td>\n",
       "      <td>347.00</td>\n",
       "      <td>340.10</td>\n",
       "      <td>343.80</td>\n",
       "      <td>340.15</td>\n",
       "      <td>342.10</td>\n",
       "      <td>343.52</td>\n",
       "      <td>449.0</td>\n",
       "      <td>225.05</td>\n",
       "      <td>2887</td>\n",
       "      <td>9.917449e+05</td>\n",
       "      <td>0</td>\n",
       "      <td>KSCL</td>\n",
       "    </tr>\n",
       "    <tr>\n",
       "      <th>3228</th>\n",
       "      <td>2011-01-06</td>\n",
       "      <td>EQ</td>\n",
       "      <td>352.00</td>\n",
       "      <td>352.00</td>\n",
       "      <td>341.15</td>\n",
       "      <td>348.55</td>\n",
       "      <td>343.00</td>\n",
       "      <td>343.80</td>\n",
       "      <td>343.99</td>\n",
       "      <td>449.0</td>\n",
       "      <td>225.05</td>\n",
       "      <td>4743</td>\n",
       "      <td>1.631549e+06</td>\n",
       "      <td>0</td>\n",
       "      <td>KSCL</td>\n",
       "    </tr>\n",
       "    <tr>\n",
       "      <th>3229</th>\n",
       "      <td>2011-01-05</td>\n",
       "      <td>EQ</td>\n",
       "      <td>350.00</td>\n",
       "      <td>352.00</td>\n",
       "      <td>334.40</td>\n",
       "      <td>345.60</td>\n",
       "      <td>346.00</td>\n",
       "      <td>348.55</td>\n",
       "      <td>343.36</td>\n",
       "      <td>449.0</td>\n",
       "      <td>225.05</td>\n",
       "      <td>21780</td>\n",
       "      <td>7.478353e+06</td>\n",
       "      <td>0</td>\n",
       "      <td>KSCL</td>\n",
       "    </tr>\n",
       "    <tr>\n",
       "      <th>3230</th>\n",
       "      <td>2011-01-04</td>\n",
       "      <td>EQ</td>\n",
       "      <td>365.00</td>\n",
       "      <td>365.00</td>\n",
       "      <td>343.40</td>\n",
       "      <td>360.00</td>\n",
       "      <td>345.00</td>\n",
       "      <td>345.60</td>\n",
       "      <td>347.96</td>\n",
       "      <td>449.0</td>\n",
       "      <td>225.05</td>\n",
       "      <td>25157</td>\n",
       "      <td>8.753644e+06</td>\n",
       "      <td>0</td>\n",
       "      <td>KSCL</td>\n",
       "    </tr>\n",
       "    <tr>\n",
       "      <th>3231</th>\n",
       "      <td>2011-01-03</td>\n",
       "      <td>EQ</td>\n",
       "      <td>357.00</td>\n",
       "      <td>360.00</td>\n",
       "      <td>352.20</td>\n",
       "      <td>360.00</td>\n",
       "      <td>357.05</td>\n",
       "      <td>360.00</td>\n",
       "      <td>359.27</td>\n",
       "      <td>449.0</td>\n",
       "      <td>225.05</td>\n",
       "      <td>4791</td>\n",
       "      <td>1.721257e+06</td>\n",
       "      <td>0</td>\n",
       "      <td>KSCL</td>\n",
       "    </tr>\n",
       "  </tbody>\n",
       "</table>\n",
       "<p>3232 rows × 15 columns</p>\n",
       "</div>"
      ],
      "text/plain": [
       "           DATE SERIES    OPEN    HIGH     LOW  PREV. CLOSE     LTP   CLOSE  \\\n",
       "0    2024-01-02     EQ  647.95  655.00  640.00       646.20  644.40  644.85   \n",
       "1    2024-01-01     EQ  657.00  659.35  640.50       612.60  647.00  646.20   \n",
       "2    2023-12-29     EQ  614.00  618.40  608.75       611.65  611.10  612.60   \n",
       "3    2023-12-28     EQ  615.00  621.20  610.00       612.15  610.40  611.65   \n",
       "4    2023-12-27     EQ  619.55  628.55  598.60       616.45  614.50  612.15   \n",
       "...         ...    ...     ...     ...     ...          ...     ...     ...   \n",
       "3227 2011-01-07     EQ  345.00  347.00  340.10       343.80  340.15  342.10   \n",
       "3228 2011-01-06     EQ  352.00  352.00  341.15       348.55  343.00  343.80   \n",
       "3229 2011-01-05     EQ  350.00  352.00  334.40       345.60  346.00  348.55   \n",
       "3230 2011-01-04     EQ  365.00  365.00  343.40       360.00  345.00  345.60   \n",
       "3231 2011-01-03     EQ  357.00  360.00  352.20       360.00  357.05  360.00   \n",
       "\n",
       "        VWAP  52W H   52W L   VOLUME         VALUE  NO OF TRADES SYMBOL  \n",
       "0     646.22  692.0  466.50   176306  1.139320e+08         13378   KSCL  \n",
       "1     649.01  692.0  466.50  1093664  7.097974e+08         40542   KSCL  \n",
       "2     613.49  692.0  466.50    45947  2.818807e+07          4519   KSCL  \n",
       "3     612.97  692.0  466.50    55342  3.392326e+07          5758   KSCL  \n",
       "4     616.41  692.0  466.50    78785  4.856412e+07          5202   KSCL  \n",
       "...      ...    ...     ...      ...           ...           ...    ...  \n",
       "3227  343.52  449.0  225.05     2887  9.917449e+05             0   KSCL  \n",
       "3228  343.99  449.0  225.05     4743  1.631549e+06             0   KSCL  \n",
       "3229  343.36  449.0  225.05    21780  7.478353e+06             0   KSCL  \n",
       "3230  347.96  449.0  225.05    25157  8.753644e+06             0   KSCL  \n",
       "3231  359.27  449.0  225.05     4791  1.721257e+06             0   KSCL  \n",
       "\n",
       "[3232 rows x 15 columns]"
      ]
     },
     "execution_count": 45,
     "metadata": {},
     "output_type": "execute_result"
    }
   ],
   "source": [
    "agri_data_df['DATE'] = pd.to_datetime(agri_data_df['DATE'], format='%m-%d-%Y')\n",
    "agri_data_df"
   ]
  },
  {
   "cell_type": "code",
   "execution_count": 46,
   "id": "periodic-norman",
   "metadata": {},
   "outputs": [],
   "source": [
    "def map_to_season(month):\n",
    "    if month in range(1,4):\n",
    "        return 'Late Winter/Spring'\n",
    "    elif month in range(4,6):\n",
    "        return 'Summer'\n",
    "    elif month in range(7,10):\n",
    "        return 'Monsoon'\n",
    "    else:\n",
    "        return 'Winter'\n",
    "\n",
    "agri_data_df['Month'] = agri_data_df['DATE'].dt.month\n",
    "agri_data_df['Season'] = agri_data_df['Month'].apply(map_to_season)\n",
    "seasonal_data = agri_data_df.groupby(['Year', 'Season'])['CLOSE'].mean().unstack()\n"
   ]
  },
  {
   "cell_type": "code",
   "execution_count": 50,
   "id": "indirect-bristol",
   "metadata": {},
   "outputs": [
    {
     "data": {
      "text/plain": [
       "<Figure size 576x432 with 0 Axes>"
      ]
     },
     "metadata": {},
     "output_type": "display_data"
    },
    {
     "data": {
      "image/png": "[encoded data removed]",
      "text/plain": [
       "<Figure size 432x288 with 1 Axes>"
      ]
     },
     "metadata": {
      "needs_background": "light"
     },
     "output_type": "display_data"
    }
   ],
   "source": [
    "plt.figure(figsize=(8, 6))\n",
    "seasonal_data.plot(kind='bar')\n",
    "plt.title('KR10')\n",
    "plt.xlabel('Season')\n",
    "plt.ylabel('Average Stock Value')\n",
    "plt.grid(axis='y')\n",
    "plt.xticks(rotation=0)\n",
    "plt.tight_layout()\n",
    "plt.show()"
   ]
  },
  {
   "cell_type": "code",
   "execution_count": 48,
   "id": "possible-carnival",
   "metadata": {},
   "outputs": [
    {
     "data": {
      "text/plain": [
       "<Figure size 1152x864 with 0 Axes>"
      ]
     },
     "metadata": {},
     "output_type": "display_data"
    },
    {
     "data": {
      "image/png": "[encoded data removed]",
      "text/plain": [
       "<Figure size 432x288 with 1 Axes>"
      ]
     },
     "metadata": {
      "needs_background": "light"
     },
     "output_type": "display_data"
    }
   ],
   "source": [
    "agri_data_df['Year'] = agri_data_df['DATE'].dt.year\n",
    "plt.figure(figsize=(16, 12))\n",
    "seasonal_data.plot(kind='line', marker='o')\n",
    "plt.title('Stock Performance Across Years and Seasons')\n",
    "plt.xlabel('Year')\n",
    "plt.ylabel('Average Stock Value')\n",
    "plt.grid(True)\n",
    "plt.legend(title='Season')\n",
    "plt.tight_layout()\n",
    "plt.show()"
   ]
  },
  {
   "cell_type": "code",
   "execution_count": null,
   "id": "brutal-plaza",
   "metadata": {},
   "outputs": [],
   "source": []
  },
  {
   "cell_type": "code",
   "execution_count": null,
   "id": "acting-arcade",
   "metadata": {},
   "outputs": [],
   "source": []
  }
 ],
 "metadata": {
  "kernelspec": {
   "display_name": "Python 3",
   "language": "python",
   "name": "python3"
  },
  "language_info": {
   "codemirror_mode": {
    "name": "ipython",
    "version": 3
   },
   "file_extension": ".py",
   "mimetype": "text/x-python",
   "name": "python",
   "nbconvert_exporter": "python",
   "pygments_lexer": "ipython3",
   "version": "3.8.10"
  }
 },
 "nbformat": 4,
 "nbformat_minor": 5
}

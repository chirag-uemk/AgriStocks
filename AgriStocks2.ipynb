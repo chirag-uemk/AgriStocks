{
 "cells": [
  {
   "cell_type": "code",
   "execution_count": 76,
   "id": "excessive-tomorrow",
   "metadata": {},
   "outputs": [],
   "source": [
    "import os\n",
    "from datetime import date\n",
    "import pandas as pd\n",
    "from dateutil.relativedelta import relativedelta\n",
    "from jugaad_data.nse import index_raw\n",
    "from jugaad_data.nse import stock_df\n",
    "import jugaad_data as jd\n",
    "import yfinance as yf\n",
    "import numpy as np\n",
    "from matplotlib import pyplot as plt\n",
    "import seaborn as sns\n",
    "import statsmodels.api as sm\n",
    "from statsmodels.graphics.tsaplots import plot_acf, plot_pacf\n",
    "from pandas_datareader.data import DataReader\n",
    "import warnings"
   ]
  },
  {
   "cell_type": "code",
   "execution_count": 77,
   "id": "marked-behalf",
   "metadata": {},
   "outputs": [
    {
     "name": "stdout",
     "output_type": "stream",
     "text": [
      "{'lastPrice': 660, 'change': 4.899999999999977, 'pChange': 0.747977408029305, 'previousClose': 655.1, 'open': 660, 'close': 662.55, 'vwap': 665.96, 'lowerCP': '524.10', 'upperCP': '786.10', 'pPriceBand': '20', 'basePrice': 655.1, 'intraDayHighLow': {'min': 656.1, 'max': 675, 'value': 660}, 'weekHighLow': {'min': 466.5, 'minDate': '31-Mar-2023', 'max': 692, 'maxDate': '19-Oct-2023', 'value': 660}, 'iNavValue': None, 'checkINAV': False}\n"
     ]
    }
   ],
   "source": [
    "from jugaad_data.nse import NSELive\n",
    "n = NSELive()\n",
    "q = n.stock_quote(\"KSCL\")\n",
    "print(q['priceInfo'])"
   ]
  },
  {
   "cell_type": "code",
   "execution_count": 78,
   "id": "invalid-technology",
   "metadata": {},
   "outputs": [],
   "source": [
    "from jugaad_data.nse import stock_df\n",
    "agri_data_df = stock_df(symbol='KSCL', \n",
    "                                from_date=date(2011,1,1), \n",
    "                                to_date=date(2024,1,5), \n",
    "                                series=\"EQ\")\n"
   ]
  },
  {
   "cell_type": "code",
   "execution_count": 79,
   "id": "rental-strength",
   "metadata": {},
   "outputs": [
    {
     "name": "stdout",
     "output_type": "stream",
     "text": [
      "{'lastPrice': 660, 'change': 4.899999999999977, 'pChange': 0.747977408029305, 'previousClose': 655.1, 'open': 660, 'close': 662.55, 'vwap': 665.96, 'lowerCP': '524.10', 'upperCP': '786.10', 'pPriceBand': '20', 'basePrice': 655.1, 'intraDayHighLow': {'min': 656.1, 'max': 675, 'value': 660}, 'weekHighLow': {'min': 466.5, 'minDate': '31-Mar-2023', 'max': 692, 'maxDate': '19-Oct-2023', 'value': 660}, 'iNavValue': None, 'checkINAV': False}\n"
     ]
    }
   ],
   "source": [
    "from jugaad_data.nse import NSELive\n",
    "n = NSELive()\n",
    "q = n.stock_quote(\"KSCL\")\n",
    "print(q['priceInfo'])"
   ]
  },
  {
   "cell_type": "code",
   "execution_count": 80,
   "id": "raising-implement",
   "metadata": {},
   "outputs": [
    {
     "data": {
      "text/plain": [
       "<Figure size 864x432 with 0 Axes>"
      ]
     },
     "execution_count": 80,
     "metadata": {},
     "output_type": "execute_result"
    },
    {
     "data": {
      "text/plain": [
       "<Figure size 864x432 with 0 Axes>"
      ]
     },
     "metadata": {},
     "output_type": "display_data"
    }
   ],
   "source": [
    "import pandas as pd\n",
    "import numpy as np\n",
    "import matplotlib.pyplot as plt\n",
    "from sklearn.linear_model import LinearRegression\n",
    "\n",
    "plt.figure(figsize=(12, 6))"
   ]
  },
  {
   "cell_type": "code",
   "execution_count": 81,
   "id": "stylish-success",
   "metadata": {},
   "outputs": [
    {
     "data": {
      "text/html": [
       "<div>\n",
       "<style scoped>\n",
       "    .dataframe tbody tr th:only-of-type {\n",
       "        vertical-align: middle;\n",
       "    }\n",
       "\n",
       "    .dataframe tbody tr th {\n",
       "        vertical-align: top;\n",
       "    }\n",
       "\n",
       "    .dataframe thead th {\n",
       "        text-align: right;\n",
       "    }\n",
       "</style>\n",
       "<table border=\"1\" class=\"dataframe\">\n",
       "  <thead>\n",
       "    <tr style=\"text-align: right;\">\n",
       "      <th></th>\n",
       "      <th>DATE</th>\n",
       "      <th>SERIES</th>\n",
       "      <th>OPEN</th>\n",
       "      <th>HIGH</th>\n",
       "      <th>LOW</th>\n",
       "      <th>PREV. CLOSE</th>\n",
       "      <th>LTP</th>\n",
       "      <th>CLOSE</th>\n",
       "      <th>VWAP</th>\n",
       "      <th>52W H</th>\n",
       "      <th>52W L</th>\n",
       "      <th>VOLUME</th>\n",
       "      <th>VALUE</th>\n",
       "      <th>NO OF TRADES</th>\n",
       "      <th>SYMBOL</th>\n",
       "    </tr>\n",
       "  </thead>\n",
       "  <tbody>\n",
       "    <tr>\n",
       "      <th>0</th>\n",
       "      <td>2024-01-02</td>\n",
       "      <td>EQ</td>\n",
       "      <td>647.95</td>\n",
       "      <td>655.00</td>\n",
       "      <td>640.00</td>\n",
       "      <td>646.20</td>\n",
       "      <td>644.40</td>\n",
       "      <td>644.85</td>\n",
       "      <td>646.22</td>\n",
       "      <td>692.0</td>\n",
       "      <td>466.50</td>\n",
       "      <td>176306</td>\n",
       "      <td>1.139320e+08</td>\n",
       "      <td>13378</td>\n",
       "      <td>KSCL</td>\n",
       "    </tr>\n",
       "    <tr>\n",
       "      <th>1</th>\n",
       "      <td>2024-01-01</td>\n",
       "      <td>EQ</td>\n",
       "      <td>657.00</td>\n",
       "      <td>659.35</td>\n",
       "      <td>640.50</td>\n",
       "      <td>612.60</td>\n",
       "      <td>647.00</td>\n",
       "      <td>646.20</td>\n",
       "      <td>649.01</td>\n",
       "      <td>692.0</td>\n",
       "      <td>466.50</td>\n",
       "      <td>1093664</td>\n",
       "      <td>7.097974e+08</td>\n",
       "      <td>40542</td>\n",
       "      <td>KSCL</td>\n",
       "    </tr>\n",
       "    <tr>\n",
       "      <th>2</th>\n",
       "      <td>2023-12-29</td>\n",
       "      <td>EQ</td>\n",
       "      <td>614.00</td>\n",
       "      <td>618.40</td>\n",
       "      <td>608.75</td>\n",
       "      <td>611.65</td>\n",
       "      <td>611.10</td>\n",
       "      <td>612.60</td>\n",
       "      <td>613.49</td>\n",
       "      <td>692.0</td>\n",
       "      <td>466.50</td>\n",
       "      <td>45947</td>\n",
       "      <td>2.818807e+07</td>\n",
       "      <td>4519</td>\n",
       "      <td>KSCL</td>\n",
       "    </tr>\n",
       "    <tr>\n",
       "      <th>3</th>\n",
       "      <td>2023-12-28</td>\n",
       "      <td>EQ</td>\n",
       "      <td>615.00</td>\n",
       "      <td>621.20</td>\n",
       "      <td>610.00</td>\n",
       "      <td>612.15</td>\n",
       "      <td>610.40</td>\n",
       "      <td>611.65</td>\n",
       "      <td>612.97</td>\n",
       "      <td>692.0</td>\n",
       "      <td>466.50</td>\n",
       "      <td>55342</td>\n",
       "      <td>3.392326e+07</td>\n",
       "      <td>5758</td>\n",
       "      <td>KSCL</td>\n",
       "    </tr>\n",
       "    <tr>\n",
       "      <th>4</th>\n",
       "      <td>2023-12-27</td>\n",
       "      <td>EQ</td>\n",
       "      <td>619.55</td>\n",
       "      <td>628.55</td>\n",
       "      <td>598.60</td>\n",
       "      <td>616.45</td>\n",
       "      <td>614.50</td>\n",
       "      <td>612.15</td>\n",
       "      <td>616.41</td>\n",
       "      <td>692.0</td>\n",
       "      <td>466.50</td>\n",
       "      <td>78785</td>\n",
       "      <td>4.856412e+07</td>\n",
       "      <td>5202</td>\n",
       "      <td>KSCL</td>\n",
       "    </tr>\n",
       "    <tr>\n",
       "      <th>...</th>\n",
       "      <td>...</td>\n",
       "      <td>...</td>\n",
       "      <td>...</td>\n",
       "      <td>...</td>\n",
       "      <td>...</td>\n",
       "      <td>...</td>\n",
       "      <td>...</td>\n",
       "      <td>...</td>\n",
       "      <td>...</td>\n",
       "      <td>...</td>\n",
       "      <td>...</td>\n",
       "      <td>...</td>\n",
       "      <td>...</td>\n",
       "      <td>...</td>\n",
       "      <td>...</td>\n",
       "    </tr>\n",
       "    <tr>\n",
       "      <th>3227</th>\n",
       "      <td>2011-01-07</td>\n",
       "      <td>EQ</td>\n",
       "      <td>345.00</td>\n",
       "      <td>347.00</td>\n",
       "      <td>340.10</td>\n",
       "      <td>343.80</td>\n",
       "      <td>340.15</td>\n",
       "      <td>342.10</td>\n",
       "      <td>343.52</td>\n",
       "      <td>449.0</td>\n",
       "      <td>225.05</td>\n",
       "      <td>2887</td>\n",
       "      <td>9.917449e+05</td>\n",
       "      <td>0</td>\n",
       "      <td>KSCL</td>\n",
       "    </tr>\n",
       "    <tr>\n",
       "      <th>3228</th>\n",
       "      <td>2011-01-06</td>\n",
       "      <td>EQ</td>\n",
       "      <td>352.00</td>\n",
       "      <td>352.00</td>\n",
       "      <td>341.15</td>\n",
       "      <td>348.55</td>\n",
       "      <td>343.00</td>\n",
       "      <td>343.80</td>\n",
       "      <td>343.99</td>\n",
       "      <td>449.0</td>\n",
       "      <td>225.05</td>\n",
       "      <td>4743</td>\n",
       "      <td>1.631549e+06</td>\n",
       "      <td>0</td>\n",
       "      <td>KSCL</td>\n",
       "    </tr>\n",
       "    <tr>\n",
       "      <th>3229</th>\n",
       "      <td>2011-01-05</td>\n",
       "      <td>EQ</td>\n",
       "      <td>350.00</td>\n",
       "      <td>352.00</td>\n",
       "      <td>334.40</td>\n",
       "      <td>345.60</td>\n",
       "      <td>346.00</td>\n",
       "      <td>348.55</td>\n",
       "      <td>343.36</td>\n",
       "      <td>449.0</td>\n",
       "      <td>225.05</td>\n",
       "      <td>21780</td>\n",
       "      <td>7.478353e+06</td>\n",
       "      <td>0</td>\n",
       "      <td>KSCL</td>\n",
       "    </tr>\n",
       "    <tr>\n",
       "      <th>3230</th>\n",
       "      <td>2011-01-04</td>\n",
       "      <td>EQ</td>\n",
       "      <td>365.00</td>\n",
       "      <td>365.00</td>\n",
       "      <td>343.40</td>\n",
       "      <td>360.00</td>\n",
       "      <td>345.00</td>\n",
       "      <td>345.60</td>\n",
       "      <td>347.96</td>\n",
       "      <td>449.0</td>\n",
       "      <td>225.05</td>\n",
       "      <td>25157</td>\n",
       "      <td>8.753644e+06</td>\n",
       "      <td>0</td>\n",
       "      <td>KSCL</td>\n",
       "    </tr>\n",
       "    <tr>\n",
       "      <th>3231</th>\n",
       "      <td>2011-01-03</td>\n",
       "      <td>EQ</td>\n",
       "      <td>357.00</td>\n",
       "      <td>360.00</td>\n",
       "      <td>352.20</td>\n",
       "      <td>360.00</td>\n",
       "      <td>357.05</td>\n",
       "      <td>360.00</td>\n",
       "      <td>359.27</td>\n",
       "      <td>449.0</td>\n",
       "      <td>225.05</td>\n",
       "      <td>4791</td>\n",
       "      <td>1.721257e+06</td>\n",
       "      <td>0</td>\n",
       "      <td>KSCL</td>\n",
       "    </tr>\n",
       "  </tbody>\n",
       "</table>\n",
       "<p>3232 rows × 15 columns</p>\n",
       "</div>"
      ],
      "text/plain": [
       "           DATE SERIES    OPEN    HIGH     LOW  PREV. CLOSE     LTP   CLOSE  \\\n",
       "0    2024-01-02     EQ  647.95  655.00  640.00       646.20  644.40  644.85   \n",
       "1    2024-01-01     EQ  657.00  659.35  640.50       612.60  647.00  646.20   \n",
       "2    2023-12-29     EQ  614.00  618.40  608.75       611.65  611.10  612.60   \n",
       "3    2023-12-28     EQ  615.00  621.20  610.00       612.15  610.40  611.65   \n",
       "4    2023-12-27     EQ  619.55  628.55  598.60       616.45  614.50  612.15   \n",
       "...         ...    ...     ...     ...     ...          ...     ...     ...   \n",
       "3227 2011-01-07     EQ  345.00  347.00  340.10       343.80  340.15  342.10   \n",
       "3228 2011-01-06     EQ  352.00  352.00  341.15       348.55  343.00  343.80   \n",
       "3229 2011-01-05     EQ  350.00  352.00  334.40       345.60  346.00  348.55   \n",
       "3230 2011-01-04     EQ  365.00  365.00  343.40       360.00  345.00  345.60   \n",
       "3231 2011-01-03     EQ  357.00  360.00  352.20       360.00  357.05  360.00   \n",
       "\n",
       "        VWAP  52W H   52W L   VOLUME         VALUE  NO OF TRADES SYMBOL  \n",
       "0     646.22  692.0  466.50   176306  1.139320e+08         13378   KSCL  \n",
       "1     649.01  692.0  466.50  1093664  7.097974e+08         40542   KSCL  \n",
       "2     613.49  692.0  466.50    45947  2.818807e+07          4519   KSCL  \n",
       "3     612.97  692.0  466.50    55342  3.392326e+07          5758   KSCL  \n",
       "4     616.41  692.0  466.50    78785  4.856412e+07          5202   KSCL  \n",
       "...      ...    ...     ...      ...           ...           ...    ...  \n",
       "3227  343.52  449.0  225.05     2887  9.917449e+05             0   KSCL  \n",
       "3228  343.99  449.0  225.05     4743  1.631549e+06             0   KSCL  \n",
       "3229  343.36  449.0  225.05    21780  7.478353e+06             0   KSCL  \n",
       "3230  347.96  449.0  225.05    25157  8.753644e+06             0   KSCL  \n",
       "3231  359.27  449.0  225.05     4791  1.721257e+06             0   KSCL  \n",
       "\n",
       "[3232 rows x 15 columns]"
      ]
     },
     "execution_count": 81,
     "metadata": {},
     "output_type": "execute_result"
    }
   ],
   "source": [
    "agri_data_df['DATE'] = pd.to_datetime(agri_data_df['DATE'], format='%m-%d-%Y')\n",
    "agri_data_df"
   ]
  },
  {
   "cell_type": "code",
   "execution_count": 85,
   "id": "periodic-norman",
   "metadata": {},
   "outputs": [],
   "source": [
    "def map_to_season(month):\n",
    "    if month in range(1,4):\n",
    "        return 'Late Winter/Spring'\n",
    "    elif month in range(4,6):\n",
    "        return 'Summer'\n",
    "    elif month in range(7,10):\n",
    "        return 'Monsoon'\n",
    "    else:\n",
    "        return 'Winter'\n",
    "\n",
    "agri_data_df['Month'] = agri_data_df['DATE'].dt.month\n",
    "agri_data_df['Season'] = agri_data_df['Month'].apply(map_to_season)\n",
    "seasonal_data = agri_data_df.groupby(['Year', 'Season'])['CLOSE'].mean().unstack()\n"
   ]
  },
  {
   "cell_type": "code",
   "execution_count": 86,
   "id": "indirect-bristol",
   "metadata": {},
   "outputs": [
    {
     "data": {
      "text/plain": [
       "<Figure size 576x432 with 0 Axes>"
      ]
     },
     "metadata": {},
     "output_type": "display_data"
    },
    {
     "data": {
      "image/png": "[encoded data removed]",
      "text/plain": [
       "<Figure size 432x288 with 1 Axes>"
      ]
     },
     "metadata": {
      "needs_background": "light"
     },
     "output_type": "display_data"
    }
   ],
   "source": [
    "plt.figure(figsize=(8, 6))\n",
    "seasonal_data.plot(kind='bar')\n",
    "plt.title('KR10')\n",
    "plt.xlabel('Season')\n",
    "plt.ylabel('Average Stock Value')\n",
    "plt.grid(axis='y')\n",
    "plt.xticks(rotation=0)\n",
    "plt.tight_layout()\n",
    "plt.show()"
   ]
  },
  {
   "cell_type": "code",
   "execution_count": 87,
   "id": "possible-carnival",
   "metadata": {},
   "outputs": [
    {
     "data": {
      "text/plain": [
       "<Figure size 1152x864 with 0 Axes>"
      ]
     },
     "metadata": {},
     "output_type": "display_data"
    },
    {
     "data": {
      "image/png": "[encoded data removed]",
      "text/plain": [
       "<Figure size 432x288 with 1 Axes>"
      ]
     },
     "metadata": {
      "needs_background": "light"
     },
     "output_type": "display_data"
    }
   ],
   "source": [
    "agri_data_df['Year'] = agri_data_df['DATE'].dt.year\n",
    "plt.figure(figsize=(16, 12))\n",
    "seasonal_data.plot(kind='line', marker='o')\n",
    "plt.title('Stock Performance Across Years and Seasons')\n",
    "plt.xlabel('Year')\n",
    "plt.ylabel('Average Stock Value')\n",
    "plt.grid(True)\n",
    "plt.legend(title='Season')\n",
    "plt.tight_layout()\n",
    "plt.show()"
   ]
  },
  {
   "cell_type": "code",
   "execution_count": 88,
   "id": "brutal-plaza",
   "metadata": {},
   "outputs": [
    {
     "name": "stdout",
     "output_type": "stream",
     "text": [
      "[*********************100%%**********************]  1 of 1 completed\n",
      "                  Open        High         Low       Close   Adj Close  \\\n",
      "Date                                                                     \n",
      "2023-01-09  511.299988  524.150024  511.299988  516.299988  511.986359   \n",
      "2023-01-10  516.049988  516.299988  503.149994  509.649994  505.391907   \n",
      "2023-01-11  507.100006  517.950012  507.100006  510.850006  506.581909   \n",
      "2023-01-12  513.400024  513.400024  501.000000  504.500000  500.284943   \n",
      "2023-01-13  504.950012  511.850006  502.000000  505.200012  500.979126   \n",
      "...                ...         ...         ...         ...         ...   \n",
      "2024-01-01  657.000000  659.349976  640.500000  646.200012  646.200012   \n",
      "2024-01-02  647.950012  655.000000  640.000000  644.849976  644.849976   \n",
      "2024-01-03  644.000000  651.599976  643.250000  648.299988  648.299988   \n",
      "2024-01-04  654.599976  659.000000  647.500000  655.099976  655.099976   \n",
      "2024-01-05  660.000000  675.000000  656.099976  662.549988  662.549988   \n",
      "\n",
      "             Volume  \n",
      "Date                 \n",
      "2023-01-09    25949  \n",
      "2023-01-10    42341  \n",
      "2023-01-11    22737  \n",
      "2023-01-12    15296  \n",
      "2023-01-13    26721  \n",
      "...             ...  \n",
      "2024-01-01  1093664  \n",
      "2024-01-02   176306  \n",
      "2024-01-03   134954  \n",
      "2024-01-04   285471  \n",
      "2024-01-05   892684  \n",
      "\n",
      "[245 rows x 6 columns]\n"
     ]
    }
   ],
   "source": [
    "stock_symbol = 'KSCL.NS'\n",
    "start_date = '2023-01-08'\n",
    "end_date = '2024-01-08'\n",
    "df = yf.download(stock_symbol, start=start_date, end=end_date)\n",
    "print(df)"
   ]
  },
  {
   "cell_type": "code",
   "execution_count": 89,
   "id": "acting-arcade",
   "metadata": {},
   "outputs": [],
   "source": [
    "#credits : https://www.geeksforgeeks.org/stock-price-prediction-using-machine-learning-in-python/\n",
    "from sklearn.model_selection import train_test_split\n",
    "from sklearn.preprocessing import StandardScaler\n",
    "from sklearn.linear_model import LogisticRegression\n",
    "from sklearn.svm import SVC\n",
    "from xgboost import XGBClassifier\n",
    "from sklearn import metrics\n",
    " \n",
    "import warnings\n",
    "warnings.filterwarnings('ignore')"
   ]
  },
  {
   "cell_type": "code",
   "execution_count": 90,
   "id": "yellow-statistics",
   "metadata": {},
   "outputs": [
    {
     "name": "stdout",
     "output_type": "stream",
     "text": [
      "<class 'pandas.core.frame.DataFrame'>\n",
      "DatetimeIndex: 245 entries, 2023-01-09 to 2024-01-05\n",
      "Data columns (total 6 columns):\n",
      " #   Column     Non-Null Count  Dtype  \n",
      "---  ------     --------------  -----  \n",
      " 0   Open       245 non-null    float64\n",
      " 1   High       245 non-null    float64\n",
      " 2   Low        245 non-null    float64\n",
      " 3   Close      245 non-null    float64\n",
      " 4   Adj Close  245 non-null    float64\n",
      " 5   Volume     245 non-null    int64  \n",
      "dtypes: float64(5), int64(1)\n",
      "memory usage: 13.4 KB\n"
     ]
    }
   ],
   "source": [
    "df.index = pd.to_datetime(df.index)\n",
    "df.info()\n"
   ]
  },
  {
   "cell_type": "code",
   "execution_count": 91,
   "id": "vietnamese-doctrine",
   "metadata": {},
   "outputs": [
    {
     "ename": "KeyError",
     "evalue": "'Date'",
     "output_type": "error",
     "traceback": [
      "\u001b[0;31m---------------------------------------------------------------------------\u001b[0m",
      "\u001b[0;31mKeyError\u001b[0m                                  Traceback (most recent call last)",
      "\u001b[0;32m~/.local/lib/python3.8/site-packages/pandas/core/indexes/base.py\u001b[0m in \u001b[0;36mget_loc\u001b[0;34m(self, key, method, tolerance)\u001b[0m\n\u001b[1;32m   3360\u001b[0m             \u001b[0;32mtry\u001b[0m\u001b[0;34m:\u001b[0m\u001b[0;34m\u001b[0m\u001b[0;34m\u001b[0m\u001b[0m\n\u001b[0;32m-> 3361\u001b[0;31m                 \u001b[0;32mreturn\u001b[0m \u001b[0mself\u001b[0m\u001b[0;34m.\u001b[0m\u001b[0m_engine\u001b[0m\u001b[0;34m.\u001b[0m\u001b[0mget_loc\u001b[0m\u001b[0;34m(\u001b[0m\u001b[0mcasted_key\u001b[0m\u001b[0;34m)\u001b[0m\u001b[0;34m\u001b[0m\u001b[0;34m\u001b[0m\u001b[0m\n\u001b[0m\u001b[1;32m   3362\u001b[0m             \u001b[0;32mexcept\u001b[0m \u001b[0mKeyError\u001b[0m \u001b[0;32mas\u001b[0m \u001b[0merr\u001b[0m\u001b[0;34m:\u001b[0m\u001b[0;34m\u001b[0m\u001b[0;34m\u001b[0m\u001b[0m\n",
      "\u001b[0;32m~/.local/lib/python3.8/site-packages/pandas/_libs/index.pyx\u001b[0m in \u001b[0;36mpandas._libs.index.IndexEngine.get_loc\u001b[0;34m()\u001b[0m\n",
      "\u001b[0;32m~/.local/lib/python3.8/site-packages/pandas/_libs/index.pyx\u001b[0m in \u001b[0;36mpandas._libs.index.IndexEngine.get_loc\u001b[0;34m()\u001b[0m\n",
      "\u001b[0;32mpandas/_libs/hashtable_class_helper.pxi\u001b[0m in \u001b[0;36mpandas._libs.hashtable.PyObjectHashTable.get_item\u001b[0;34m()\u001b[0m\n",
      "\u001b[0;32mpandas/_libs/hashtable_class_helper.pxi\u001b[0m in \u001b[0;36mpandas._libs.hashtable.PyObjectHashTable.get_item\u001b[0;34m()\u001b[0m\n",
      "\u001b[0;31mKeyError\u001b[0m: 'Date'",
      "\nThe above exception was the direct cause of the following exception:\n",
      "\u001b[0;31mKeyError\u001b[0m                                  Traceback (most recent call last)",
      "\u001b[0;32m<ipython-input-91-be21b15a8dd9>\u001b[0m in \u001b[0;36m<module>\u001b[0;34m\u001b[0m\n\u001b[1;32m      1\u001b[0m \u001b[0;31m#see this tomorrow pls\u001b[0m\u001b[0;34m\u001b[0m\u001b[0;34m\u001b[0m\u001b[0;34m\u001b[0m\u001b[0m\n\u001b[0;32m----> 2\u001b[0;31m \u001b[0msplitted\u001b[0m \u001b[0;34m=\u001b[0m \u001b[0mdf\u001b[0m\u001b[0;34m[\u001b[0m\u001b[0;34m'Date'\u001b[0m\u001b[0;34m]\u001b[0m\u001b[0;34m.\u001b[0m\u001b[0mdate\u001b[0m\u001b[0;34m(\u001b[0m\u001b[0;34m)\u001b[0m\u001b[0;34m.\u001b[0m\u001b[0mstr\u001b[0m\u001b[0;34m.\u001b[0m\u001b[0msplit\u001b[0m\u001b[0;34m(\u001b[0m\u001b[0;34m'-'\u001b[0m\u001b[0;34m,\u001b[0m \u001b[0mexpand\u001b[0m\u001b[0;34m=\u001b[0m\u001b[0;32mTrue\u001b[0m\u001b[0;34m)\u001b[0m\u001b[0;34m\u001b[0m\u001b[0;34m\u001b[0m\u001b[0m\n\u001b[0m\u001b[1;32m      3\u001b[0m \u001b[0mdf\u001b[0m\u001b[0;34m[\u001b[0m\u001b[0;34m'day'\u001b[0m\u001b[0;34m]\u001b[0m \u001b[0;34m=\u001b[0m \u001b[0msplitted\u001b[0m\u001b[0;34m[\u001b[0m\u001b[0;36m1\u001b[0m\u001b[0;34m]\u001b[0m\u001b[0;34m.\u001b[0m\u001b[0mastype\u001b[0m\u001b[0;34m(\u001b[0m\u001b[0;34m'int'\u001b[0m\u001b[0;34m)\u001b[0m\u001b[0;34m\u001b[0m\u001b[0;34m\u001b[0m\u001b[0m\n\u001b[1;32m      4\u001b[0m \u001b[0mdf\u001b[0m\u001b[0;34m[\u001b[0m\u001b[0;34m'month'\u001b[0m\u001b[0;34m]\u001b[0m \u001b[0;34m=\u001b[0m \u001b[0msplitted\u001b[0m\u001b[0;34m[\u001b[0m\u001b[0;36m0\u001b[0m\u001b[0;34m]\u001b[0m\u001b[0;34m.\u001b[0m\u001b[0mastype\u001b[0m\u001b[0;34m(\u001b[0m\u001b[0;34m'int'\u001b[0m\u001b[0;34m)\u001b[0m\u001b[0;34m\u001b[0m\u001b[0;34m\u001b[0m\u001b[0m\n\u001b[1;32m      5\u001b[0m \u001b[0mdf\u001b[0m\u001b[0;34m[\u001b[0m\u001b[0;34m'year'\u001b[0m\u001b[0;34m]\u001b[0m \u001b[0;34m=\u001b[0m \u001b[0msplitted\u001b[0m\u001b[0;34m[\u001b[0m\u001b[0;36m2\u001b[0m\u001b[0;34m]\u001b[0m\u001b[0;34m.\u001b[0m\u001b[0mastype\u001b[0m\u001b[0;34m(\u001b[0m\u001b[0;34m'int'\u001b[0m\u001b[0;34m)\u001b[0m\u001b[0;34m\u001b[0m\u001b[0;34m\u001b[0m\u001b[0m\n",
      "\u001b[0;32m~/.local/lib/python3.8/site-packages/pandas/core/frame.py\u001b[0m in \u001b[0;36m__getitem__\u001b[0;34m(self, key)\u001b[0m\n\u001b[1;32m   3456\u001b[0m             \u001b[0;32mif\u001b[0m \u001b[0mself\u001b[0m\u001b[0;34m.\u001b[0m\u001b[0mcolumns\u001b[0m\u001b[0;34m.\u001b[0m\u001b[0mnlevels\u001b[0m \u001b[0;34m>\u001b[0m \u001b[0;36m1\u001b[0m\u001b[0;34m:\u001b[0m\u001b[0;34m\u001b[0m\u001b[0;34m\u001b[0m\u001b[0m\n\u001b[1;32m   3457\u001b[0m                 \u001b[0;32mreturn\u001b[0m \u001b[0mself\u001b[0m\u001b[0;34m.\u001b[0m\u001b[0m_getitem_multilevel\u001b[0m\u001b[0;34m(\u001b[0m\u001b[0mkey\u001b[0m\u001b[0;34m)\u001b[0m\u001b[0;34m\u001b[0m\u001b[0;34m\u001b[0m\u001b[0m\n\u001b[0;32m-> 3458\u001b[0;31m             \u001b[0mindexer\u001b[0m \u001b[0;34m=\u001b[0m \u001b[0mself\u001b[0m\u001b[0;34m.\u001b[0m\u001b[0mcolumns\u001b[0m\u001b[0;34m.\u001b[0m\u001b[0mget_loc\u001b[0m\u001b[0;34m(\u001b[0m\u001b[0mkey\u001b[0m\u001b[0;34m)\u001b[0m\u001b[0;34m\u001b[0m\u001b[0;34m\u001b[0m\u001b[0m\n\u001b[0m\u001b[1;32m   3459\u001b[0m             \u001b[0;32mif\u001b[0m \u001b[0mis_integer\u001b[0m\u001b[0;34m(\u001b[0m\u001b[0mindexer\u001b[0m\u001b[0;34m)\u001b[0m\u001b[0;34m:\u001b[0m\u001b[0;34m\u001b[0m\u001b[0;34m\u001b[0m\u001b[0m\n\u001b[1;32m   3460\u001b[0m                 \u001b[0mindexer\u001b[0m \u001b[0;34m=\u001b[0m \u001b[0;34m[\u001b[0m\u001b[0mindexer\u001b[0m\u001b[0;34m]\u001b[0m\u001b[0;34m\u001b[0m\u001b[0;34m\u001b[0m\u001b[0m\n",
      "\u001b[0;32m~/.local/lib/python3.8/site-packages/pandas/core/indexes/base.py\u001b[0m in \u001b[0;36mget_loc\u001b[0;34m(self, key, method, tolerance)\u001b[0m\n\u001b[1;32m   3361\u001b[0m                 \u001b[0;32mreturn\u001b[0m \u001b[0mself\u001b[0m\u001b[0;34m.\u001b[0m\u001b[0m_engine\u001b[0m\u001b[0;34m.\u001b[0m\u001b[0mget_loc\u001b[0m\u001b[0;34m(\u001b[0m\u001b[0mcasted_key\u001b[0m\u001b[0;34m)\u001b[0m\u001b[0;34m\u001b[0m\u001b[0;34m\u001b[0m\u001b[0m\n\u001b[1;32m   3362\u001b[0m             \u001b[0;32mexcept\u001b[0m \u001b[0mKeyError\u001b[0m \u001b[0;32mas\u001b[0m \u001b[0merr\u001b[0m\u001b[0;34m:\u001b[0m\u001b[0;34m\u001b[0m\u001b[0;34m\u001b[0m\u001b[0m\n\u001b[0;32m-> 3363\u001b[0;31m                 \u001b[0;32mraise\u001b[0m \u001b[0mKeyError\u001b[0m\u001b[0;34m(\u001b[0m\u001b[0mkey\u001b[0m\u001b[0;34m)\u001b[0m \u001b[0;32mfrom\u001b[0m \u001b[0merr\u001b[0m\u001b[0;34m\u001b[0m\u001b[0;34m\u001b[0m\u001b[0m\n\u001b[0m\u001b[1;32m   3364\u001b[0m \u001b[0;34m\u001b[0m\u001b[0m\n\u001b[1;32m   3365\u001b[0m         \u001b[0;32mif\u001b[0m \u001b[0mis_scalar\u001b[0m\u001b[0;34m(\u001b[0m\u001b[0mkey\u001b[0m\u001b[0;34m)\u001b[0m \u001b[0;32mand\u001b[0m \u001b[0misna\u001b[0m\u001b[0;34m(\u001b[0m\u001b[0mkey\u001b[0m\u001b[0;34m)\u001b[0m \u001b[0;32mand\u001b[0m \u001b[0;32mnot\u001b[0m \u001b[0mself\u001b[0m\u001b[0;34m.\u001b[0m\u001b[0mhasnans\u001b[0m\u001b[0;34m:\u001b[0m\u001b[0;34m\u001b[0m\u001b[0;34m\u001b[0m\u001b[0m\n",
      "\u001b[0;31mKeyError\u001b[0m: 'Date'"
     ]
    }
   ],
   "source": [
    "#see this tomorrow pls \n",
    "splitted = df['Date'].date().str.split('-', expand=True)\n",
    "df['day'] = splitted[1].astype('int')\n",
    "df['month'] = splitted[0].astype('int')\n",
    "df['year'] = splitted[2].astype('int')\n",
    " \n",
    "df.head()\n",
    "\n",
    "df['is_quarter_end'] = np.where(df['month']%3==0,1,0)\n",
    "df.head()\n",
    "\n",
    "df.groupby('is_quarter_end').mean()\n",
    "df['open-close']  = df['Open'] - df['Close']\n",
    "df['low-high']  = df['Low'] - df['High']\n",
    "df['target'] = np.where(df['Close'].shift(-1) > df['Close'], 1, 0)\n",
    "\n",
    "features = df[['open-close', 'low-high', 'is_quarter_end']]\n",
    "target = df['target']\n",
    " \n",
    "scaler = StandardScaler()\n",
    "features = scaler.fit_transform(features)\n",
    " \n",
    "X_train, X_valid, Y_train, Y_valid = train_test_split(\n",
    "    features, target, test_size=0.1, random_state=2022)\n",
    "print(X_train.shape, X_valid.shape)\n",
    "\n",
    "models = [LogisticRegression(), SVC(\n",
    "  kernel='poly', probability=True), XGBClassifier()]\n",
    " \n",
    "for i in range(3):\n",
    "  models[i].fit(X_train, Y_train)\n",
    " \n",
    "  print(f'{models[i]} : ')\n",
    "  print('Training Accuracy : ', metrics.roc_auc_score(\n",
    "    Y_train, models[i].predict_proba(X_train)[:,1]))\n",
    "  print('Validation Accuracy : ', metrics.roc_auc_score(\n",
    "    Y_valid, models[i].predict_proba(X_valid)[:,1]))\n",
    "  print()\n"
   ]
  },
  {
   "cell_type": "code",
   "execution_count": null,
   "id": "accredited-henry",
   "metadata": {},
   "outputs": [],
   "source": []
  },
  {
   "cell_type": "code",
   "execution_count": null,
   "id": "static-malta",
   "metadata": {},
   "outputs": [],
   "source": []
  },
  {
   "cell_type": "code",
   "execution_count": null,
   "id": "exempt-lodge",
   "metadata": {},
   "outputs": [],
   "source": []
  }
 ],
 "metadata": {
  "kernelspec": {
   "display_name": "Python 3",
   "language": "python",
   "name": "python3"
  },
  "language_info": {
   "codemirror_mode": {
    "name": "ipython",
    "version": 3
   },
   "file_extension": ".py",
   "mimetype": "text/x-python",
   "name": "python",
   "nbconvert_exporter": "python",
   "pygments_lexer": "ipython3",
   "version": "3.8.10"
  }
 },
 "nbformat": 4,
 "nbformat_minor": 5
}
